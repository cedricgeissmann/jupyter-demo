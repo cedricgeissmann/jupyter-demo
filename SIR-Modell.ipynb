{
 "cells": [
  {
   "cell_type": "markdown",
   "metadata": {},
   "source": [
    "# SIR-Modell\n",
    "\n",
    "## Parameter\n",
    "\n",
    "- `a`: Die Übertragbarkeit des Virus. Hängt davon ab wie viele `Suseptible` und wie viele `Infected` es gibt.\n",
    "- `b`: Die Rate wie schnell man nach einer Infektion zurück zu den `Suseptible` geht. Das Individuum hat also durch die Infektion keine Immunität erhalten. Hängt davon ab wie viele `Infected` es gibt. Reduziert die Anzahl `Infected`.\n",
    "- `c`: Die Rate mit der infizierte Individuun *heilen*, also sich immunisieren. Hängt von `Infected` ab. Reduziert die Anzahl `Infected`.\n",
    "- `d`: Die Rate mit der geimpft wird. Hängt nur von `Suseptible` ab. Reduziert `Suseptible` und erhöht `Vaccinated`.\n",
    "- `e`: Die Rate mit der immunisierte (`Removed`) die Immunität verlieren. Hängt von `Removed` ab. Erhöht `Suseptible`.\n",
    "- `f`: Die Rate mit der geimpfte Individuuen den Impfschutz verlieren. Hängt von `Vaccinated` ab und erhöht `Suseptible`.\n",
    "- `g`: Die Rate mit der sich geimpfte trozdem anstecken können. Die Idee hier ist das sich geimpfte anstecken können, aber nicht mehr sterben an der Infektion. Diese Rate hängt von `Vaccinated` und `Infected` ab. `g` sollte sehr klein gewählt werden, da er von 2 Grössen abhängt.\n",
    "- `h`: Die Rate mit der infizierte-geimpfte Individuuen von `Suseptible` anstecken können.\n",
    "- `i`: Die Rate mit der *False-Negative* getestet wird.\n",
    "- `i`: Die Rate mit der *False-Negative* getestete Individuuen andere aus der Gruppe `Suseptible` anstecken.\n",
    "- `k`: Todesrate bei Infizierten. Hängt von `Infected` ab und erhöht `Dead`.\n",
    "\n",
    "## Events\n",
    "\n",
    "Mit dem Objekt `events` kann das geschehen der Pandemie kontinuierlich verändert werden. Es kann für jeden Zeitschritt `t` ein Event angegeben werden. Bei einem Event werden die Parameter der laufenden Pandemie neu gesetzt.\n",
    "\n",
    "**Beispiel:**\n",
    "Zum Zeitpunkt `t=50` werden Massnahmen umgesetzt, welche die Verbreitung des Virus erschweren.\n",
    "\n",
    "```python\n",
    "events[50] = {'a': 0.05}\n",
    "```"
   ]
  },
  {
   "cell_type": "code",
   "execution_count": 1,
   "metadata": {
    "scrolled": false
   },
   "outputs": [
    {
     "data": {
      "application/vnd.jupyter.widget-view+json": {
       "model_id": "8a3e5226ed8e47cbbf9190d87308e5ec",
       "version_major": 2,
       "version_minor": 0
      },
      "text/plain": [
       "VBox(children=(HBox(children=(Checkbox(value=True, description='Suseptible'), Checkbox(value=True, description…"
      ]
     },
     "metadata": {},
     "output_type": "display_data"
    }
   ],
   "source": [
    "import matplotlib.pyplot as plt\n",
    "\n",
    "from lib.iteration import *\n",
    "import ipywidgets as widgets\n",
    "\n",
    "plt.rcParams[\"figure.figsize\"] = (15, 30)\n",
    "\n",
    "a = widgets.FloatSlider(0.5, description='a:', step=0.05, min=0.0, max=1, readout_format='.2f')\n",
    "b = widgets.FloatSlider(0.1, description='b:', step=0.05, min=0.0, max=1, readout_format='.2f')\n",
    "c = widgets.FloatSlider(0.1, description='c:', step=0.05, min=0.0, max=1, readout_format='.2f')\n",
    "d = widgets.FloatSlider(0.0, description='d:', step=0.05, min=0.0, max=1, readout_format='.2f')\n",
    "e = widgets.FloatSlider(0.0, description='e:', step=0.05, min=0.0, max=1, readout_format='.2f')\n",
    "f = widgets.FloatSlider(0.0, description='f:', step=0.05, min=0.0, max=1, readout_format='.2f')\n",
    "g = widgets.FloatSlider(0.0, description='g:', step=0.05, min=0.0, max=1, readout_format='.2f')\n",
    "h = widgets.FloatSlider(0.0, description='h:', step=0.05, min=0.0, max=1, readout_format='.2f')\n",
    "i = widgets.FloatSlider(0.0, description='i:', step=0.05, min=0.0, max=1, readout_format='.2f')\n",
    "j = widgets.FloatSlider(0.0, description='j:', step=0.05, min=0.0, max=1, readout_format='.2f')\n",
    "k = widgets.FloatSlider(0.0, description='k:', step=0.05, min=0.0, max=1, readout_format='.2f')\n",
    "\n",
    "\n",
    "s_start = widgets.IntSlider(10000, description='S:', step=100, min=0, max=10_000_000)\n",
    "i_start = widgets.IntSlider(10, description='I:', step=100, min=0, max=10_000_000)\n",
    "\n",
    "days = widgets.IntSlider(365, description='Anzahl Tage', min=1, max=730)\n",
    "\n",
    "daily_fluctuations = widgets.FloatSlider(0.0, description='Tägliche Unsicherheit', min=0.0, max=1.0)\n",
    "\n",
    "def update(args):\n",
    "    fig_panel.clear_output()\n",
    "    with fig_panel:\n",
    "        l = iteration(sir_modell, x0=[s_start.value, i_start.value, 0, 0, 0, 0, 0],\n",
    "              n=days.value, a=a.value, b=b.value, c=c.value, d=d.value,\n",
    "              e=e.value, f=f.value, g=g.value, h=h.value, i=i.value, j=j.value, k=k.value,\n",
    "              daily_fluctuations=daily_fluctuations.value,\n",
    "              events=events)\n",
    "        to_plot_labels={l.description: l.value for l in selectors}\n",
    "        pl = plot_iteration(l, highlight=highlight, to_plot=to_plot_labels)\n",
    "\n",
    "controls = [a, b, c, d, e, f, h, g, i, j, k, s_start, i_start, days, daily_fluctuations]\n",
    "for w in controls:\n",
    "    w.observe(update, names='value')\n",
    "\n",
    "controls_panel = widgets.VBox(controls, layout={'width': '40%'})\n",
    "fig_panel = widgets.Output()\n",
    "selectors = []\n",
    "for l in ['Suseptible', 'Infected', 'Removed']:\n",
    "    selectors.append(widgets.Checkbox(True, description=l))\n",
    "for l in ['Dead', 'Vaccinated', 'VI', 'FN-Tested']:\n",
    "    selectors.append(widgets.Checkbox(False, description=l))\n",
    "    \n",
    "app = widgets.VBox([\n",
    "    widgets.HBox(selectors),\n",
    "    widgets.HBox([controls_panel, fig_panel])\n",
    "])\n",
    "display(app)\n",
    "\n",
    "highlight = {'Infected': {\n",
    "        'color': 'red',\n",
    "        'linewidth': 3,\n",
    "        'linestyle': '-.'\n",
    "    },'Suseptible': {\n",
    "        'color': 'green'\n",
    "    }, 'Dead': {\n",
    "        'color': 'black'\n",
    "    }, 'VI': {\n",
    "        'color': 'magenta'\n",
    "}}\n",
    "events = {\n",
    "    200: {'a': 0.9, 'k': 0.1}, \n",
    "}\n",
    "u"
   ]
  }
 ],
 "metadata": {
  "jupytext": {
   "formats": "ipynb,md"
  },
  "kernelspec": {
   "display_name": "Python 3",
   "language": "python",
   "name": "python3"
  },
  "language_info": {
   "codemirror_mode": {
    "name": "ipython",
    "version": 3
   },
   "file_extension": ".py",
   "mimetype": "text/x-python",
   "name": "python",
   "nbconvert_exporter": "python",
   "pygments_lexer": "ipython3",
   "version": "3.8.6"
  }
 },
 "nbformat": 4,
 "nbformat_minor": 4
}
